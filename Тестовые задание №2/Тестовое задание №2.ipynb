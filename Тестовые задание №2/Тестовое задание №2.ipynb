{
 "cells": [
  {
   "cell_type": "markdown",
   "id": "ed9244e1",
   "metadata": {},
   "source": [
    "# Тестовые задания. Каримов Ильдар "
   ]
  },
  {
   "cell_type": "markdown",
   "id": "7d1fd5d5",
   "metadata": {},
   "source": [
    "## Задание №2 (Pandas, Numpy):\n",
    "\n",
    "**Дано:** динамические данные по дебиту газа.\n",
    "\n",
    "**Формат исходных данных:** \n",
    "- Date&Time – дата и время замера, \n",
    "- qg_sc – объемный дебит газа в м3\\сут.\n",
    "\n",
    "**Задача:**\n",
    "Написать скрипт (на Python) для обнаружения выбросов в динамических данных по\n",
    "дебиту газа. Данный скрипт должен читать исходные данные, добавлять столбец «Outlier» со\n",
    "значениями 1 – выброс, 0 – не выброс, и записывать результат в файл Excel.\n",
    "На основе написанного скрипта необходимо получить результат для 4 предоставленных\n",
    "примеров.\n",
    "\n",
    "**Замечания:** необходимо учесть, что данные динамические, то есть в них есть тренды.\n",
    "\n",
    "**Идея:**\n",
    "1. Проанализировать отклонения значения в точке от тренда в скользящем окне.\n",
    "2. Часто при поиске выбросов пользуются правилом трех сигм."
   ]
  },
  {
   "cell_type": "markdown",
   "id": "dca6e59e",
   "metadata": {},
   "source": [
    "## Решение: "
   ]
  },
  {
   "cell_type": "code",
   "execution_count": 1,
   "id": "3dcb0c90",
   "metadata": {},
   "outputs": [],
   "source": [
    "# Импортируем необходимые библиотеки\n",
    "\n",
    "import pandas as pd\n",
    "import numpy as np"
   ]
  },
  {
   "cell_type": "code",
   "execution_count": 2,
   "id": "494c9a99",
   "metadata": {},
   "outputs": [
    {
     "data": {
      "text/html": [
       "<div>\n",
       "<style scoped>\n",
       "    .dataframe tbody tr th:only-of-type {\n",
       "        vertical-align: middle;\n",
       "    }\n",
       "\n",
       "    .dataframe tbody tr th {\n",
       "        vertical-align: top;\n",
       "    }\n",
       "\n",
       "    .dataframe thead th {\n",
       "        text-align: right;\n",
       "    }\n",
       "</style>\n",
       "<table border=\"1\" class=\"dataframe\">\n",
       "  <thead>\n",
       "    <tr style=\"text-align: right;\">\n",
       "      <th></th>\n",
       "      <th>Date&amp;Time</th>\n",
       "      <th>qg_sc</th>\n",
       "    </tr>\n",
       "  </thead>\n",
       "  <tbody>\n",
       "    <tr>\n",
       "      <th>0</th>\n",
       "      <td>2021-01-01 00:59:59</td>\n",
       "      <td>332.48</td>\n",
       "    </tr>\n",
       "    <tr>\n",
       "      <th>1</th>\n",
       "      <td>2021-01-01 01:59:59</td>\n",
       "      <td>333.65</td>\n",
       "    </tr>\n",
       "    <tr>\n",
       "      <th>2</th>\n",
       "      <td>2021-01-01 02:59:59</td>\n",
       "      <td>332.22</td>\n",
       "    </tr>\n",
       "    <tr>\n",
       "      <th>3</th>\n",
       "      <td>2021-01-01 03:59:59</td>\n",
       "      <td>333.52</td>\n",
       "    </tr>\n",
       "    <tr>\n",
       "      <th>4</th>\n",
       "      <td>2021-01-01 04:59:59</td>\n",
       "      <td>331.99</td>\n",
       "    </tr>\n",
       "  </tbody>\n",
       "</table>\n",
       "</div>"
      ],
      "text/plain": [
       "            Date&Time   qg_sc\n",
       "0 2021-01-01 00:59:59  332.48\n",
       "1 2021-01-01 01:59:59  333.65\n",
       "2 2021-01-01 02:59:59  332.22\n",
       "3 2021-01-01 03:59:59  333.52\n",
       "4 2021-01-01 04:59:59  331.99"
      ]
     },
     "execution_count": 2,
     "metadata": {},
     "output_type": "execute_result"
    }
   ],
   "source": [
    "# прочитаем файл и сохраним результат в датафрейме df\n",
    "df = pd.read_excel('C:/Users/Задание № 2 (данные).xlsx', sheet_name='№2')\n",
    "\n",
    "df.head() # выведем первые 5 строк таблицы на экран "
   ]
  },
  {
   "cell_type": "code",
   "execution_count": 3,
   "id": "ec72312a",
   "metadata": {},
   "outputs": [],
   "source": [
    "df['date'] = df['Date&Time'].dt.date # преобразуем временной тип "
   ]
  },
  {
   "cell_type": "code",
   "execution_count": 4,
   "id": "ffb0dfc0",
   "metadata": {},
   "outputs": [],
   "source": [
    "# берем среднее арифметическое и среднее квадратическое отклонение за дату \n",
    "\n",
    "df_grouped = df.groupby('date').agg({'qg_sc': ['mean', 'std']}) "
   ]
  },
  {
   "cell_type": "code",
   "execution_count": 5,
   "id": "40a84661",
   "metadata": {},
   "outputs": [
    {
     "data": {
      "text/html": [
       "<div>\n",
       "<style scoped>\n",
       "    .dataframe tbody tr th:only-of-type {\n",
       "        vertical-align: middle;\n",
       "    }\n",
       "\n",
       "    .dataframe tbody tr th {\n",
       "        vertical-align: top;\n",
       "    }\n",
       "\n",
       "    .dataframe thead tr th {\n",
       "        text-align: left;\n",
       "    }\n",
       "\n",
       "    .dataframe thead tr:last-of-type th {\n",
       "        text-align: right;\n",
       "    }\n",
       "</style>\n",
       "<table border=\"1\" class=\"dataframe\">\n",
       "  <thead>\n",
       "    <tr>\n",
       "      <th></th>\n",
       "      <th colspan=\"2\" halign=\"left\">qg_sc</th>\n",
       "    </tr>\n",
       "    <tr>\n",
       "      <th></th>\n",
       "      <th>mean</th>\n",
       "      <th>std</th>\n",
       "    </tr>\n",
       "    <tr>\n",
       "      <th>date</th>\n",
       "      <th></th>\n",
       "      <th></th>\n",
       "    </tr>\n",
       "  </thead>\n",
       "  <tbody>\n",
       "    <tr>\n",
       "      <th>2021-01-01</th>\n",
       "      <td>332.740833</td>\n",
       "      <td>0.775258</td>\n",
       "    </tr>\n",
       "    <tr>\n",
       "      <th>2021-01-02</th>\n",
       "      <td>333.399583</td>\n",
       "      <td>0.808291</td>\n",
       "    </tr>\n",
       "    <tr>\n",
       "      <th>2021-01-03</th>\n",
       "      <td>350.752917</td>\n",
       "      <td>13.497392</td>\n",
       "    </tr>\n",
       "    <tr>\n",
       "      <th>2021-01-04</th>\n",
       "      <td>361.490417</td>\n",
       "      <td>0.966650</td>\n",
       "    </tr>\n",
       "    <tr>\n",
       "      <th>2021-01-05</th>\n",
       "      <td>364.903333</td>\n",
       "      <td>4.439674</td>\n",
       "    </tr>\n",
       "  </tbody>\n",
       "</table>\n",
       "</div>"
      ],
      "text/plain": [
       "                 qg_sc           \n",
       "                  mean        std\n",
       "date                             \n",
       "2021-01-01  332.740833   0.775258\n",
       "2021-01-02  333.399583   0.808291\n",
       "2021-01-03  350.752917  13.497392\n",
       "2021-01-04  361.490417   0.966650\n",
       "2021-01-05  364.903333   4.439674"
      ]
     },
     "execution_count": 5,
     "metadata": {},
     "output_type": "execute_result"
    }
   ],
   "source": [
    "df_grouped.head() # выведем первые 5 строк таблицы на экран "
   ]
  },
  {
   "cell_type": "code",
   "execution_count": 6,
   "id": "9343e457",
   "metadata": {},
   "outputs": [],
   "source": [
    "df_grouped.columns = ['_'.join(col) for col in df_grouped.columns.values] # уберем \"этажность\" названий столбцов "
   ]
  },
  {
   "cell_type": "code",
   "execution_count": 7,
   "id": "2b6938b4",
   "metadata": {},
   "outputs": [],
   "source": [
    "df_grouped = df_grouped.reset_index() # уберем индекс "
   ]
  },
  {
   "cell_type": "code",
   "execution_count": 8,
   "id": "940535e3",
   "metadata": {},
   "outputs": [],
   "source": [
    "df = df.merge(df_grouped) # объеденим таблицы "
   ]
  },
  {
   "cell_type": "code",
   "execution_count": 12,
   "id": "61a7d52a",
   "metadata": {},
   "outputs": [],
   "source": [
    "# добавим новый столбец Outlier со значениями 1 – выброс, 0 – не выброс, при поиске выбросов пользуемся правилом трех сигм\n",
    "\n",
    "df['Outlier'] = (\n",
    "                ~(df.qg_sc > (df.qg_sc_mean - 3 * df.qg_sc_std)) & (df.qg_sc < (df.qg_sc_mean + 3 * df.qg_sc_std))).astype(\n",
    "        int)"
   ]
  },
  {
   "cell_type": "code",
   "execution_count": 10,
   "id": "92bbaf00",
   "metadata": {},
   "outputs": [
    {
     "data": {
      "text/html": [
       "<div>\n",
       "<style scoped>\n",
       "    .dataframe tbody tr th:only-of-type {\n",
       "        vertical-align: middle;\n",
       "    }\n",
       "\n",
       "    .dataframe tbody tr th {\n",
       "        vertical-align: top;\n",
       "    }\n",
       "\n",
       "    .dataframe thead th {\n",
       "        text-align: right;\n",
       "    }\n",
       "</style>\n",
       "<table border=\"1\" class=\"dataframe\">\n",
       "  <thead>\n",
       "    <tr style=\"text-align: right;\">\n",
       "      <th></th>\n",
       "      <th>Date&amp;Time</th>\n",
       "      <th>qg_sc</th>\n",
       "      <th>Outlier</th>\n",
       "    </tr>\n",
       "  </thead>\n",
       "  <tbody>\n",
       "    <tr>\n",
       "      <th>0</th>\n",
       "      <td>2021-01-01 00:59:59</td>\n",
       "      <td>332.48</td>\n",
       "      <td>0</td>\n",
       "    </tr>\n",
       "    <tr>\n",
       "      <th>1</th>\n",
       "      <td>2021-01-01 01:59:59</td>\n",
       "      <td>333.65</td>\n",
       "      <td>0</td>\n",
       "    </tr>\n",
       "    <tr>\n",
       "      <th>2</th>\n",
       "      <td>2021-01-01 02:59:59</td>\n",
       "      <td>332.22</td>\n",
       "      <td>0</td>\n",
       "    </tr>\n",
       "    <tr>\n",
       "      <th>3</th>\n",
       "      <td>2021-01-01 03:59:59</td>\n",
       "      <td>333.52</td>\n",
       "      <td>0</td>\n",
       "    </tr>\n",
       "    <tr>\n",
       "      <th>4</th>\n",
       "      <td>2021-01-01 04:59:59</td>\n",
       "      <td>331.99</td>\n",
       "      <td>0</td>\n",
       "    </tr>\n",
       "  </tbody>\n",
       "</table>\n",
       "</div>"
      ],
      "text/plain": [
       "            Date&Time   qg_sc  Outlier\n",
       "0 2021-01-01 00:59:59  332.48        0\n",
       "1 2021-01-01 01:59:59  333.65        0\n",
       "2 2021-01-01 02:59:59  332.22        0\n",
       "3 2021-01-01 03:59:59  333.52        0\n",
       "4 2021-01-01 04:59:59  331.99        0"
      ]
     },
     "execution_count": 10,
     "metadata": {},
     "output_type": "execute_result"
    }
   ],
   "source": [
    "df[['Date&Time', 'qg_sc', 'Outlier']].head() # выведем первые 5 строк итоговой таблицы на экран "
   ]
  },
  {
   "cell_type": "code",
   "execution_count": 11,
   "id": "7f6072f5",
   "metadata": {},
   "outputs": [
    {
     "data": {
      "text/html": [
       "<div>\n",
       "<style scoped>\n",
       "    .dataframe tbody tr th:only-of-type {\n",
       "        vertical-align: middle;\n",
       "    }\n",
       "\n",
       "    .dataframe tbody tr th {\n",
       "        vertical-align: top;\n",
       "    }\n",
       "\n",
       "    .dataframe thead th {\n",
       "        text-align: right;\n",
       "    }\n",
       "</style>\n",
       "<table border=\"1\" class=\"dataframe\">\n",
       "  <thead>\n",
       "    <tr style=\"text-align: right;\">\n",
       "      <th></th>\n",
       "      <th>Date&amp;Time</th>\n",
       "      <th>qg_sc</th>\n",
       "      <th>date</th>\n",
       "      <th>qg_sc_mean</th>\n",
       "      <th>qg_sc_std</th>\n",
       "      <th>Outlier</th>\n",
       "    </tr>\n",
       "  </thead>\n",
       "  <tbody>\n",
       "    <tr>\n",
       "      <th>431</th>\n",
       "      <td>2021-01-18 23:59:58.995</td>\n",
       "      <td>352.06</td>\n",
       "      <td>2021-01-18</td>\n",
       "      <td>355.405833</td>\n",
       "      <td>1.032493</td>\n",
       "      <td>1</td>\n",
       "    </tr>\n",
       "    <tr>\n",
       "      <th>551</th>\n",
       "      <td>2021-01-23 23:59:58.995</td>\n",
       "      <td>284.94</td>\n",
       "      <td>2021-01-23</td>\n",
       "      <td>352.027083</td>\n",
       "      <td>14.418553</td>\n",
       "      <td>1</td>\n",
       "    </tr>\n",
       "    <tr>\n",
       "      <th>640</th>\n",
       "      <td>2021-01-27 16:59:58.995</td>\n",
       "      <td>303.09</td>\n",
       "      <td>2021-01-27</td>\n",
       "      <td>313.345000</td>\n",
       "      <td>3.355388</td>\n",
       "      <td>1</td>\n",
       "    </tr>\n",
       "    <tr>\n",
       "      <th>1305</th>\n",
       "      <td>2021-02-24 09:59:58.995</td>\n",
       "      <td>296.97</td>\n",
       "      <td>2021-02-24</td>\n",
       "      <td>309.700000</td>\n",
       "      <td>2.837686</td>\n",
       "      <td>1</td>\n",
       "    </tr>\n",
       "  </tbody>\n",
       "</table>\n",
       "</div>"
      ],
      "text/plain": [
       "                   Date&Time   qg_sc        date  qg_sc_mean  qg_sc_std  \\\n",
       "431  2021-01-18 23:59:58.995  352.06  2021-01-18  355.405833   1.032493   \n",
       "551  2021-01-23 23:59:58.995  284.94  2021-01-23  352.027083  14.418553   \n",
       "640  2021-01-27 16:59:58.995  303.09  2021-01-27  313.345000   3.355388   \n",
       "1305 2021-02-24 09:59:58.995  296.97  2021-02-24  309.700000   2.837686   \n",
       "\n",
       "      Outlier  \n",
       "431         1  \n",
       "551         1  \n",
       "640         1  \n",
       "1305        1  "
      ]
     },
     "execution_count": 11,
     "metadata": {},
     "output_type": "execute_result"
    }
   ],
   "source": [
    "df[df['Outlier'] == 1] # выведем стороки с выбрасами "
   ]
  },
  {
   "cell_type": "markdown",
   "id": "9b16ed32",
   "metadata": {},
   "source": [
    "## Скрипт: "
   ]
  },
  {
   "cell_type": "code",
   "execution_count": null,
   "id": "c7e9cf05",
   "metadata": {},
   "outputs": [],
   "source": [
    "import pandas as pd\n",
    "import argparse\n",
    "\n",
    "def main(path):\n",
    "    print(path)\n",
    "    df = pd.read_excel(path)\n",
    "    df['date'] = df['Date&Time'].dt.date\n",
    "    df_grouped = df.groupby('date').agg({'qg_sc': ['mean', 'std']})\n",
    "    df_grouped.columns = ['_'.join(col) for col in df_grouped.columns.values]\n",
    "    df_grouped = df_grouped.reset_index()\n",
    "    df = df.merge(df_grouped)\n",
    "    df['Outlier'] = (\n",
    "                ~(df.qg_sc > (df.qg_sc_mean - 3 * df.qg_sc_std)) & (df.qg_sc < (df.qg_sc_mean + 3 * df.qg_sc_std))).astype(\n",
    "        int)\n",
    "    df[['Date&Time', 'qg_sc', 'Outlier']].to_excel(path, index=False)\n",
    "\n",
    "\n",
    "if __name__ == '__main__':\n",
    "    parser = argparse.ArgumentParser(description='Outliers detector')\n",
    "    parser.add_argument('filename')\n",
    "\n",
    "    args = parser.parse_args()\n",
    "    main(args.filename)"
   ]
  },
  {
   "cell_type": "markdown",
   "id": "ce1c1642",
   "metadata": {},
   "source": [
    "Скачать файл скрипта в формате Py по ссылке - https://disk.yandex.ru/d/L285kzBU8xblXg "
   ]
  }
 ],
 "metadata": {
  "kernelspec": {
   "display_name": "Python 3 (ipykernel)",
   "language": "python",
   "name": "python3"
  },
  "language_info": {
   "codemirror_mode": {
    "name": "ipython",
    "version": 3
   },
   "file_extension": ".py",
   "mimetype": "text/x-python",
   "name": "python",
   "nbconvert_exporter": "python",
   "pygments_lexer": "ipython3",
   "version": "3.9.13"
  }
 },
 "nbformat": 4,
 "nbformat_minor": 5
}
