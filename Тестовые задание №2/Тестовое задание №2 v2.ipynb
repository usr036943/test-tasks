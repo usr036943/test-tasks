{
 "cells": [
  {
   "cell_type": "markdown",
   "id": "ed9244e1",
   "metadata": {},
   "source": [
    "# Тестовые задания. Каримов Ильдар"
   ]
  },
  {
   "cell_type": "markdown",
   "id": "7d1fd5d5",
   "metadata": {},
   "source": [
    "## Задание №2 (Pandas, Numpy):\n",
    "\n",
    "**Дано:** динамические данные по дебиту газа.\n",
    "\n",
    "**Формат исходных данных:** \n",
    "- Date&Time – дата и время замера, \n",
    "- qg_sc – объемный дебит газа в м3\\сут.\n",
    "\n",
    "**Задача:**\n",
    "Написать скрипт (на Python) для обнаружения выбросов в динамических данных по\n",
    "дебиту газа. Данный скрипт должен читать исходные данные, добавлять столбец «Outlier» со\n",
    "значениями 1 – выброс, 0 – не выброс, и записывать результат в файл Excel.\n",
    "На основе написанного скрипта необходимо получить результат для 4 предоставленных\n",
    "примеров.\n",
    "\n",
    "**Замечания:** необходимо учесть, что данные динамические, то есть в них есть тренды.\n",
    "\n",
    "**Идея:**\n",
    "1. Проанализировать отклонения значения в точке от тренда в скользящем окне.\n",
    "2. Часто при поиске выбросов пользуются правилом трех сигм."
   ]
  },
  {
   "cell_type": "markdown",
   "id": "dca6e59e",
   "metadata": {},
   "source": [
    "### Решение: "
   ]
  },
  {
   "cell_type": "code",
   "execution_count": 1,
   "id": "3dcb0c90",
   "metadata": {},
   "outputs": [],
   "source": [
    "# Импортируем необходимые библиотеки\n",
    "\n",
    "import pandas as pd\n",
    "import numpy as np\n",
    "import matplotlib.pyplot as plt\n",
    "import seaborn as sns\n",
    "from datetime import datetime"
   ]
  },
  {
   "cell_type": "code",
   "execution_count": 2,
   "id": "494c9a99",
   "metadata": {},
   "outputs": [],
   "source": [
    "# прочитаем файл и сохраним результат в датафрейме df\n",
    "df = pd.read_excel('C:/Users/Ильдар/Desktop/Тестовые задания/Задание № 2 (данные).xlsx', sheet_name='№1')"
   ]
  },
  {
   "cell_type": "code",
   "execution_count": 3,
   "id": "21521572",
   "metadata": {},
   "outputs": [
    {
     "data": {
      "text/html": [
       "<div>\n",
       "<style scoped>\n",
       "    .dataframe tbody tr th:only-of-type {\n",
       "        vertical-align: middle;\n",
       "    }\n",
       "\n",
       "    .dataframe tbody tr th {\n",
       "        vertical-align: top;\n",
       "    }\n",
       "\n",
       "    .dataframe thead th {\n",
       "        text-align: right;\n",
       "    }\n",
       "</style>\n",
       "<table border=\"1\" class=\"dataframe\">\n",
       "  <thead>\n",
       "    <tr style=\"text-align: right;\">\n",
       "      <th></th>\n",
       "      <th>Date&amp;Time</th>\n",
       "      <th>qg_sc</th>\n",
       "    </tr>\n",
       "  </thead>\n",
       "  <tbody>\n",
       "    <tr>\n",
       "      <th>0</th>\n",
       "      <td>2020-01-12 12:59:06.000</td>\n",
       "      <td>224.80</td>\n",
       "    </tr>\n",
       "    <tr>\n",
       "      <th>1</th>\n",
       "      <td>2020-01-12 13:59:06.000</td>\n",
       "      <td>244.13</td>\n",
       "    </tr>\n",
       "    <tr>\n",
       "      <th>2</th>\n",
       "      <td>2020-01-12 14:59:06.000</td>\n",
       "      <td>243.21</td>\n",
       "    </tr>\n",
       "    <tr>\n",
       "      <th>3</th>\n",
       "      <td>2020-01-12 15:59:06.000</td>\n",
       "      <td>243.90</td>\n",
       "    </tr>\n",
       "    <tr>\n",
       "      <th>4</th>\n",
       "      <td>2020-01-12 16:59:06.000</td>\n",
       "      <td>244.28</td>\n",
       "    </tr>\n",
       "    <tr>\n",
       "      <th>...</th>\n",
       "      <td>...</td>\n",
       "      <td>...</td>\n",
       "    </tr>\n",
       "    <tr>\n",
       "      <th>1566</th>\n",
       "      <td>2020-03-17 18:59:13.825</td>\n",
       "      <td>332.19</td>\n",
       "    </tr>\n",
       "    <tr>\n",
       "      <th>1567</th>\n",
       "      <td>2020-03-17 19:59:13.830</td>\n",
       "      <td>332.49</td>\n",
       "    </tr>\n",
       "    <tr>\n",
       "      <th>1568</th>\n",
       "      <td>2020-03-17 20:59:13.835</td>\n",
       "      <td>331.95</td>\n",
       "    </tr>\n",
       "    <tr>\n",
       "      <th>1569</th>\n",
       "      <td>2020-03-17 21:59:13.840</td>\n",
       "      <td>331.91</td>\n",
       "    </tr>\n",
       "    <tr>\n",
       "      <th>1570</th>\n",
       "      <td>2020-03-17 22:59:13.845</td>\n",
       "      <td>334.20</td>\n",
       "    </tr>\n",
       "  </tbody>\n",
       "</table>\n",
       "<p>1571 rows × 2 columns</p>\n",
       "</div>"
      ],
      "text/plain": [
       "                   Date&Time   qg_sc\n",
       "0    2020-01-12 12:59:06.000  224.80\n",
       "1    2020-01-12 13:59:06.000  244.13\n",
       "2    2020-01-12 14:59:06.000  243.21\n",
       "3    2020-01-12 15:59:06.000  243.90\n",
       "4    2020-01-12 16:59:06.000  244.28\n",
       "...                      ...     ...\n",
       "1566 2020-03-17 18:59:13.825  332.19\n",
       "1567 2020-03-17 19:59:13.830  332.49\n",
       "1568 2020-03-17 20:59:13.835  331.95\n",
       "1569 2020-03-17 21:59:13.840  331.91\n",
       "1570 2020-03-17 22:59:13.845  334.20\n",
       "\n",
       "[1571 rows x 2 columns]"
      ]
     },
     "execution_count": 3,
     "metadata": {},
     "output_type": "execute_result"
    }
   ],
   "source": [
    "df # выведем таблицу"
   ]
  },
  {
   "cell_type": "code",
   "execution_count": 4,
   "id": "bc1105b2",
   "metadata": {},
   "outputs": [
    {
     "name": "stdout",
     "output_type": "stream",
     "text": [
      "<class 'pandas.core.frame.DataFrame'>\n",
      "RangeIndex: 1571 entries, 0 to 1570\n",
      "Data columns (total 2 columns):\n",
      " #   Column     Non-Null Count  Dtype         \n",
      "---  ------     --------------  -----         \n",
      " 0   Date&Time  1571 non-null   datetime64[ns]\n",
      " 1   qg_sc      1571 non-null   float64       \n",
      "dtypes: datetime64[ns](1), float64(1)\n",
      "memory usage: 24.7 KB\n"
     ]
    }
   ],
   "source": [
    "df.info() # выведем основную информацию о датафрейме с помощью метода info()"
   ]
  },
  {
   "cell_type": "code",
   "execution_count": 5,
   "id": "cd4bc3da",
   "metadata": {},
   "outputs": [
    {
     "data": {
      "text/plain": [
       "Timestamp('2020-01-12 12:59:06')"
      ]
     },
     "execution_count": 5,
     "metadata": {},
     "output_type": "execute_result"
    }
   ],
   "source": [
    "df['Date&Time'].min() # найдем самую раннее время в таблице"
   ]
  },
  {
   "cell_type": "code",
   "execution_count": 6,
   "id": "a13e57a7",
   "metadata": {},
   "outputs": [
    {
     "data": {
      "text/plain": [
       "Timestamp('2020-03-17 22:59:13.845000')"
      ]
     },
     "execution_count": 6,
     "metadata": {},
     "output_type": "execute_result"
    }
   ],
   "source": [
    "df['Date&Time'].max() # найдем самую позднее время в таблице"
   ]
  },
  {
   "cell_type": "code",
   "execution_count": 7,
   "id": "ec72312a",
   "metadata": {},
   "outputs": [],
   "source": [
    "df['date'] = df['Date&Time'].dt.date # преобразуем временной тип "
   ]
  },
  {
   "cell_type": "code",
   "execution_count": 8,
   "id": "ffb0dfc0",
   "metadata": {},
   "outputs": [],
   "source": [
    "# берем среднее арифметическое и среднее квадратическое отклонение за дату \n",
    "\n",
    "df_grouped = df.groupby('date').agg({'qg_sc': ['mean', 'std']}) "
   ]
  },
  {
   "cell_type": "code",
   "execution_count": 9,
   "id": "40a84661",
   "metadata": {},
   "outputs": [
    {
     "data": {
      "text/html": [
       "<div>\n",
       "<style scoped>\n",
       "    .dataframe tbody tr th:only-of-type {\n",
       "        vertical-align: middle;\n",
       "    }\n",
       "\n",
       "    .dataframe tbody tr th {\n",
       "        vertical-align: top;\n",
       "    }\n",
       "\n",
       "    .dataframe thead tr th {\n",
       "        text-align: left;\n",
       "    }\n",
       "\n",
       "    .dataframe thead tr:last-of-type th {\n",
       "        text-align: right;\n",
       "    }\n",
       "</style>\n",
       "<table border=\"1\" class=\"dataframe\">\n",
       "  <thead>\n",
       "    <tr>\n",
       "      <th></th>\n",
       "      <th colspan=\"2\" halign=\"left\">qg_sc</th>\n",
       "    </tr>\n",
       "    <tr>\n",
       "      <th></th>\n",
       "      <th>mean</th>\n",
       "      <th>std</th>\n",
       "    </tr>\n",
       "    <tr>\n",
       "      <th>date</th>\n",
       "      <th></th>\n",
       "      <th></th>\n",
       "    </tr>\n",
       "  </thead>\n",
       "  <tbody>\n",
       "    <tr>\n",
       "      <th>2020-01-12</th>\n",
       "      <td>243.263333</td>\n",
       "      <td>5.914029</td>\n",
       "    </tr>\n",
       "    <tr>\n",
       "      <th>2020-01-13</th>\n",
       "      <td>300.731667</td>\n",
       "      <td>51.022648</td>\n",
       "    </tr>\n",
       "    <tr>\n",
       "      <th>2020-01-14</th>\n",
       "      <td>340.086250</td>\n",
       "      <td>0.595299</td>\n",
       "    </tr>\n",
       "    <tr>\n",
       "      <th>2020-01-15</th>\n",
       "      <td>339.680833</td>\n",
       "      <td>0.546323</td>\n",
       "    </tr>\n",
       "    <tr>\n",
       "      <th>2020-01-16</th>\n",
       "      <td>335.178333</td>\n",
       "      <td>21.654976</td>\n",
       "    </tr>\n",
       "  </tbody>\n",
       "</table>\n",
       "</div>"
      ],
      "text/plain": [
       "                 qg_sc           \n",
       "                  mean        std\n",
       "date                             \n",
       "2020-01-12  243.263333   5.914029\n",
       "2020-01-13  300.731667  51.022648\n",
       "2020-01-14  340.086250   0.595299\n",
       "2020-01-15  339.680833   0.546323\n",
       "2020-01-16  335.178333  21.654976"
      ]
     },
     "execution_count": 9,
     "metadata": {},
     "output_type": "execute_result"
    }
   ],
   "source": [
    "df_grouped.head() # выведем первые 5 строк таблицы на экран "
   ]
  },
  {
   "cell_type": "code",
   "execution_count": 10,
   "id": "9343e457",
   "metadata": {},
   "outputs": [],
   "source": [
    "df_grouped.columns = ['_'.join(col) for col in df_grouped.columns.values] # уберем \"этажность\" названий столбцов "
   ]
  },
  {
   "cell_type": "code",
   "execution_count": 11,
   "id": "2b6938b4",
   "metadata": {},
   "outputs": [],
   "source": [
    "df_grouped = df_grouped.reset_index() # уберем индекс "
   ]
  },
  {
   "cell_type": "code",
   "execution_count": 12,
   "id": "940535e3",
   "metadata": {},
   "outputs": [],
   "source": [
    "df = df.merge(df_grouped) # объеденим таблицы "
   ]
  },
  {
   "cell_type": "markdown",
   "id": "a3df3192",
   "metadata": {},
   "source": [
    "Воспользуемся правилом \"трех сигм\" при поиске выбросов."
   ]
  },
  {
   "cell_type": "code",
   "execution_count": 13,
   "id": "61a7d52a",
   "metadata": {},
   "outputs": [],
   "source": [
    "# добавим новый столбец Outlier со значениями 1 – выброс, 0 – не выброс\n",
    "df['Outlier'] = (\n",
    "                ~(df.qg_sc > (df.qg_sc_mean - 3 * df.qg_sc_std)) & (df.qg_sc < (df.qg_sc_mean + 3 * df.qg_sc_std))).astype(\n",
    "        int)"
   ]
  },
  {
   "cell_type": "code",
   "execution_count": 14,
   "id": "92bbaf00",
   "metadata": {},
   "outputs": [
    {
     "data": {
      "text/html": [
       "<div>\n",
       "<style scoped>\n",
       "    .dataframe tbody tr th:only-of-type {\n",
       "        vertical-align: middle;\n",
       "    }\n",
       "\n",
       "    .dataframe tbody tr th {\n",
       "        vertical-align: top;\n",
       "    }\n",
       "\n",
       "    .dataframe thead th {\n",
       "        text-align: right;\n",
       "    }\n",
       "</style>\n",
       "<table border=\"1\" class=\"dataframe\">\n",
       "  <thead>\n",
       "    <tr style=\"text-align: right;\">\n",
       "      <th></th>\n",
       "      <th>Date&amp;Time</th>\n",
       "      <th>qg_sc</th>\n",
       "      <th>Outlier</th>\n",
       "    </tr>\n",
       "  </thead>\n",
       "  <tbody>\n",
       "    <tr>\n",
       "      <th>0</th>\n",
       "      <td>2020-01-12 12:59:06</td>\n",
       "      <td>224.80</td>\n",
       "      <td>1</td>\n",
       "    </tr>\n",
       "    <tr>\n",
       "      <th>1</th>\n",
       "      <td>2020-01-12 13:59:06</td>\n",
       "      <td>244.13</td>\n",
       "      <td>0</td>\n",
       "    </tr>\n",
       "    <tr>\n",
       "      <th>2</th>\n",
       "      <td>2020-01-12 14:59:06</td>\n",
       "      <td>243.21</td>\n",
       "      <td>0</td>\n",
       "    </tr>\n",
       "    <tr>\n",
       "      <th>3</th>\n",
       "      <td>2020-01-12 15:59:06</td>\n",
       "      <td>243.90</td>\n",
       "      <td>0</td>\n",
       "    </tr>\n",
       "    <tr>\n",
       "      <th>4</th>\n",
       "      <td>2020-01-12 16:59:06</td>\n",
       "      <td>244.28</td>\n",
       "      <td>0</td>\n",
       "    </tr>\n",
       "  </tbody>\n",
       "</table>\n",
       "</div>"
      ],
      "text/plain": [
       "            Date&Time   qg_sc  Outlier\n",
       "0 2020-01-12 12:59:06  224.80        1\n",
       "1 2020-01-12 13:59:06  244.13        0\n",
       "2 2020-01-12 14:59:06  243.21        0\n",
       "3 2020-01-12 15:59:06  243.90        0\n",
       "4 2020-01-12 16:59:06  244.28        0"
      ]
     },
     "execution_count": 14,
     "metadata": {},
     "output_type": "execute_result"
    }
   ],
   "source": [
    "df[['Date&Time', 'qg_sc', 'Outlier']].head() # выведем первые 5 строк итоговой таблицы на экран "
   ]
  },
  {
   "cell_type": "code",
   "execution_count": 15,
   "id": "7f6072f5",
   "metadata": {},
   "outputs": [
    {
     "data": {
      "text/html": [
       "<div>\n",
       "<style scoped>\n",
       "    .dataframe tbody tr th:only-of-type {\n",
       "        vertical-align: middle;\n",
       "    }\n",
       "\n",
       "    .dataframe tbody tr th {\n",
       "        vertical-align: top;\n",
       "    }\n",
       "\n",
       "    .dataframe thead th {\n",
       "        text-align: right;\n",
       "    }\n",
       "</style>\n",
       "<table border=\"1\" class=\"dataframe\">\n",
       "  <thead>\n",
       "    <tr style=\"text-align: right;\">\n",
       "      <th></th>\n",
       "      <th>Date&amp;Time</th>\n",
       "      <th>qg_sc</th>\n",
       "      <th>date</th>\n",
       "      <th>qg_sc_mean</th>\n",
       "      <th>qg_sc_std</th>\n",
       "      <th>Outlier</th>\n",
       "    </tr>\n",
       "  </thead>\n",
       "  <tbody>\n",
       "    <tr>\n",
       "      <th>0</th>\n",
       "      <td>2020-01-12 12:59:06.000</td>\n",
       "      <td>224.80</td>\n",
       "      <td>2020-01-12</td>\n",
       "      <td>243.263333</td>\n",
       "      <td>5.914029</td>\n",
       "      <td>1</td>\n",
       "    </tr>\n",
       "    <tr>\n",
       "      <th>96</th>\n",
       "      <td>2020-01-16 12:59:06.475</td>\n",
       "      <td>233.56</td>\n",
       "      <td>2020-01-16</td>\n",
       "      <td>335.178333</td>\n",
       "      <td>21.654976</td>\n",
       "      <td>1</td>\n",
       "    </tr>\n",
       "    <tr>\n",
       "      <th>166</th>\n",
       "      <td>2020-01-19 10:59:06.825</td>\n",
       "      <td>336.80</td>\n",
       "      <td>2020-01-19</td>\n",
       "      <td>339.171250</td>\n",
       "      <td>0.704972</td>\n",
       "      <td>1</td>\n",
       "    </tr>\n",
       "    <tr>\n",
       "      <th>199</th>\n",
       "      <td>2020-01-20 19:59:06.990</td>\n",
       "      <td>332.37</td>\n",
       "      <td>2020-01-20</td>\n",
       "      <td>338.461250</td>\n",
       "      <td>1.457685</td>\n",
       "      <td>1</td>\n",
       "    </tr>\n",
       "    <tr>\n",
       "      <th>245</th>\n",
       "      <td>2020-01-22 17:59:07.220</td>\n",
       "      <td>335.41</td>\n",
       "      <td>2020-01-22</td>\n",
       "      <td>338.238750</td>\n",
       "      <td>0.841847</td>\n",
       "      <td>1</td>\n",
       "    </tr>\n",
       "    <tr>\n",
       "      <th>348</th>\n",
       "      <td>2020-01-27 00:59:07.735</td>\n",
       "      <td>340.02</td>\n",
       "      <td>2020-01-27</td>\n",
       "      <td>378.205000</td>\n",
       "      <td>11.807319</td>\n",
       "      <td>1</td>\n",
       "    </tr>\n",
       "    <tr>\n",
       "      <th>349</th>\n",
       "      <td>2020-01-27 01:59:07.740</td>\n",
       "      <td>339.86</td>\n",
       "      <td>2020-01-27</td>\n",
       "      <td>378.205000</td>\n",
       "      <td>11.807319</td>\n",
       "      <td>1</td>\n",
       "    </tr>\n",
       "    <tr>\n",
       "      <th>418</th>\n",
       "      <td>2020-01-29 22:59:08.085</td>\n",
       "      <td>369.69</td>\n",
       "      <td>2020-01-29</td>\n",
       "      <td>381.706250</td>\n",
       "      <td>3.781228</td>\n",
       "      <td>1</td>\n",
       "    </tr>\n",
       "    <tr>\n",
       "      <th>419</th>\n",
       "      <td>2020-01-29 23:59:08.090</td>\n",
       "      <td>369.73</td>\n",
       "      <td>2020-01-29</td>\n",
       "      <td>381.706250</td>\n",
       "      <td>3.781228</td>\n",
       "      <td>1</td>\n",
       "    </tr>\n",
       "    <tr>\n",
       "      <th>469</th>\n",
       "      <td>2020-02-01 01:59:08.340</td>\n",
       "      <td>226.93</td>\n",
       "      <td>2020-02-01</td>\n",
       "      <td>309.515417</td>\n",
       "      <td>23.486888</td>\n",
       "      <td>1</td>\n",
       "    </tr>\n",
       "    <tr>\n",
       "      <th>492</th>\n",
       "      <td>2020-02-02 00:59:08.455</td>\n",
       "      <td>308.60</td>\n",
       "      <td>2020-02-02</td>\n",
       "      <td>320.855000</td>\n",
       "      <td>3.728512</td>\n",
       "      <td>1</td>\n",
       "    </tr>\n",
       "    <tr>\n",
       "      <th>850</th>\n",
       "      <td>2020-02-16 22:59:10.245</td>\n",
       "      <td>284.55</td>\n",
       "      <td>2020-02-16</td>\n",
       "      <td>357.757917</td>\n",
       "      <td>22.567747</td>\n",
       "      <td>1</td>\n",
       "    </tr>\n",
       "    <tr>\n",
       "      <th>851</th>\n",
       "      <td>2020-02-16 23:59:10.250</td>\n",
       "      <td>284.50</td>\n",
       "      <td>2020-02-16</td>\n",
       "      <td>357.757917</td>\n",
       "      <td>22.567747</td>\n",
       "      <td>1</td>\n",
       "    </tr>\n",
       "  </tbody>\n",
       "</table>\n",
       "</div>"
      ],
      "text/plain": [
       "                  Date&Time   qg_sc        date  qg_sc_mean  qg_sc_std  \\\n",
       "0   2020-01-12 12:59:06.000  224.80  2020-01-12  243.263333   5.914029   \n",
       "96  2020-01-16 12:59:06.475  233.56  2020-01-16  335.178333  21.654976   \n",
       "166 2020-01-19 10:59:06.825  336.80  2020-01-19  339.171250   0.704972   \n",
       "199 2020-01-20 19:59:06.990  332.37  2020-01-20  338.461250   1.457685   \n",
       "245 2020-01-22 17:59:07.220  335.41  2020-01-22  338.238750   0.841847   \n",
       "348 2020-01-27 00:59:07.735  340.02  2020-01-27  378.205000  11.807319   \n",
       "349 2020-01-27 01:59:07.740  339.86  2020-01-27  378.205000  11.807319   \n",
       "418 2020-01-29 22:59:08.085  369.69  2020-01-29  381.706250   3.781228   \n",
       "419 2020-01-29 23:59:08.090  369.73  2020-01-29  381.706250   3.781228   \n",
       "469 2020-02-01 01:59:08.340  226.93  2020-02-01  309.515417  23.486888   \n",
       "492 2020-02-02 00:59:08.455  308.60  2020-02-02  320.855000   3.728512   \n",
       "850 2020-02-16 22:59:10.245  284.55  2020-02-16  357.757917  22.567747   \n",
       "851 2020-02-16 23:59:10.250  284.50  2020-02-16  357.757917  22.567747   \n",
       "\n",
       "     Outlier  \n",
       "0          1  \n",
       "96         1  \n",
       "166        1  \n",
       "199        1  \n",
       "245        1  \n",
       "348        1  \n",
       "349        1  \n",
       "418        1  \n",
       "419        1  \n",
       "469        1  \n",
       "492        1  \n",
       "850        1  \n",
       "851        1  "
      ]
     },
     "execution_count": 15,
     "metadata": {},
     "output_type": "execute_result"
    }
   ],
   "source": [
    "df[df['Outlier'] == 1] # выведем стороки с выбросами "
   ]
  },
  {
   "cell_type": "markdown",
   "id": "e5810405",
   "metadata": {},
   "source": [
    "### Построим графики и обозначим цветом найденные выбросы."
   ]
  },
  {
   "cell_type": "code",
   "execution_count": 16,
   "id": "4bb0b07c",
   "metadata": {},
   "outputs": [],
   "source": [
    "# подготовим данные к визуализации\n",
    "\n",
    "df['dot_c'] = ''\n",
    "df.loc[df.Outlier == 0, 'dot_c'] = 'blue'\n",
    "df.loc[df.Outlier == 1, 'dot_c'] = 'red'"
   ]
  },
  {
   "cell_type": "code",
   "execution_count": 17,
   "id": "556f6ae2-dafd-458f-8642-9e3110d089a0",
   "metadata": {},
   "outputs": [
    {
     "data": {
      "image/png": "[encoded data removed]",
      "text/plain": [
       "<Figure size 640x480 with 1 Axes>"
      ]
     },
     "metadata": {},
     "output_type": "display_data"
    }
   ],
   "source": [
    "def plot_outliers(min_date, max_date):\n",
    "    df[(pd.to_datetime(df['date']).dt.date>=datetime.date(datetime.strptime(min_date,'%Y-%m-%d')))\n",
    "      &(pd.to_datetime(df['date']).dt.date<=datetime.date(datetime.strptime(max_date,'%Y-%m-%d')))]\\\n",
    "        .plot.scatter(x='date',y='qg_sc',c='dot_c', title='Диаграмма рассеяния',\\\n",
    "                      xlabel='Дата замера', ylabel='Объемный дебит газа в м3\\сут')      \n",
    "\n",
    "plot_outliers('2020-01-20','2020-01-23')"
   ]
  },
  {
   "cell_type": "markdown",
   "id": "9b16ed32",
   "metadata": {},
   "source": [
    "### Скрипт: "
   ]
  },
  {
   "cell_type": "code",
   "execution_count": null,
   "id": "3786497c",
   "metadata": {},
   "outputs": [],
   "source": [
    "import pandas as pd\n",
    "import argparse\n",
    "\n",
    "def main(path):\n",
    "    print(path)\n",
    "    df = pd.read_excel(path)\n",
    "    df['date'] = df['Date&Time'].dt.date\n",
    "    df_grouped = df.groupby('date').agg({'qg_sc': ['mean', 'std']})\n",
    "    df_grouped.columns = ['_'.join(col) for col in df_grouped.columns.values]\n",
    "    df_grouped = df_grouped.reset_index()\n",
    "    df = df.merge(df_grouped)\n",
    "    df['Outlier'] = (\n",
    "                ~(df.qg_sc > (df.qg_sc_mean - 3 * df.qg_sc_std)) & (df.qg_sc < (df.qg_sc_mean + 3 * df.qg_sc_std))).astype(\n",
    "        int)\n",
    "    df[['Date&Time', 'qg_sc', 'Outlier']].to_excel(path, index=False)\n",
    "\n",
    "\n",
    "if __name__ == '__main__':\n",
    "    parser = argparse.ArgumentParser(description='Outliers detector')\n",
    "    parser.add_argument('filename')\n",
    "\n",
    "    args = parser.parse_args()\n",
    "    main(args.filename)"
   ]
  },
  {
   "cell_type": "markdown",
   "id": "ff346366",
   "metadata": {},
   "source": [
    "Команда для запуска в терминале - **python скрипт.py данные.xlsx**"
   ]
  }
 ],
 "metadata": {
  "kernelspec": {
   "display_name": "Python 3 (ipykernel)",
   "language": "python",
   "name": "python3"
  },
  "language_info": {
   "codemirror_mode": {
    "name": "ipython",
    "version": 3
   },
   "file_extension": ".py",
   "mimetype": "text/x-python",
   "name": "python",
   "nbconvert_exporter": "python",
   "pygments_lexer": "ipython3",
   "version": "3.9.13"
  }
 },
 "nbformat": 4,
 "nbformat_minor": 5
}
